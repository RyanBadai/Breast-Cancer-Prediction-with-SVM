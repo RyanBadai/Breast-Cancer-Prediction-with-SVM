{
 "cells": [
  {
   "cell_type": "code",
   "execution_count": 1,
   "id": "cc8e78ce",
   "metadata": {},
   "outputs": [],
   "source": [
    "import numpy as np\n",
    "import pandas as pd\n",
    "import seaborn as sns\n",
    "import matplotlib.pyplot as plt\n",
    "from sklearn.preprocessing import LabelEncoder\n",
    "from sklearn.model_selection import train_test_split \n",
    "from sklearn.svm import SVC\n",
    "from sklearn.metrics import classification_report, accuracy_score, confusion_matrix\n",
    "from scipy import stats\n",
    "from sklearn.model_selection import GridSearchCV\n",
    "from sklearn import svm\n",
    "from sklearn.preprocessing import StandardScaler\n",
    "from sklearn.ensemble import RandomForestClassifier\n",
    "from imblearn.over_sampling import SMOTE"
   ]
  },
  {
   "cell_type": "code",
   "execution_count": 2,
   "id": "55899d94",
   "metadata": {},
   "outputs": [
    {
     "data": {
      "text/html": [
       "<div>\n",
       "<style scoped>\n",
       "    .dataframe tbody tr th:only-of-type {\n",
       "        vertical-align: middle;\n",
       "    }\n",
       "\n",
       "    .dataframe tbody tr th {\n",
       "        vertical-align: top;\n",
       "    }\n",
       "\n",
       "    .dataframe thead th {\n",
       "        text-align: right;\n",
       "    }\n",
       "</style>\n",
       "<table border=\"1\" class=\"dataframe\">\n",
       "  <thead>\n",
       "    <tr style=\"text-align: right;\">\n",
       "      <th></th>\n",
       "      <th>id</th>\n",
       "      <th>gender</th>\n",
       "      <th>age</th>\n",
       "      <th>hypertension</th>\n",
       "      <th>heart_disease</th>\n",
       "      <th>ever_married</th>\n",
       "      <th>work_type</th>\n",
       "      <th>Residence_type</th>\n",
       "      <th>avg_glucose_level</th>\n",
       "      <th>bmi</th>\n",
       "      <th>smoking_status</th>\n",
       "      <th>stroke</th>\n",
       "    </tr>\n",
       "  </thead>\n",
       "  <tbody>\n",
       "    <tr>\n",
       "      <th>0</th>\n",
       "      <td>9046</td>\n",
       "      <td>Male</td>\n",
       "      <td>67.0</td>\n",
       "      <td>0</td>\n",
       "      <td>1</td>\n",
       "      <td>Yes</td>\n",
       "      <td>Private</td>\n",
       "      <td>Urban</td>\n",
       "      <td>228.69</td>\n",
       "      <td>36.6</td>\n",
       "      <td>formerly smoked</td>\n",
       "      <td>1</td>\n",
       "    </tr>\n",
       "    <tr>\n",
       "      <th>1</th>\n",
       "      <td>51676</td>\n",
       "      <td>Female</td>\n",
       "      <td>61.0</td>\n",
       "      <td>0</td>\n",
       "      <td>0</td>\n",
       "      <td>Yes</td>\n",
       "      <td>Self-employed</td>\n",
       "      <td>Rural</td>\n",
       "      <td>202.21</td>\n",
       "      <td>NaN</td>\n",
       "      <td>never smoked</td>\n",
       "      <td>1</td>\n",
       "    </tr>\n",
       "    <tr>\n",
       "      <th>2</th>\n",
       "      <td>31112</td>\n",
       "      <td>Male</td>\n",
       "      <td>80.0</td>\n",
       "      <td>0</td>\n",
       "      <td>1</td>\n",
       "      <td>Yes</td>\n",
       "      <td>Private</td>\n",
       "      <td>Rural</td>\n",
       "      <td>105.92</td>\n",
       "      <td>32.5</td>\n",
       "      <td>never smoked</td>\n",
       "      <td>1</td>\n",
       "    </tr>\n",
       "    <tr>\n",
       "      <th>3</th>\n",
       "      <td>60182</td>\n",
       "      <td>Female</td>\n",
       "      <td>49.0</td>\n",
       "      <td>0</td>\n",
       "      <td>0</td>\n",
       "      <td>Yes</td>\n",
       "      <td>Private</td>\n",
       "      <td>Urban</td>\n",
       "      <td>171.23</td>\n",
       "      <td>34.4</td>\n",
       "      <td>smokes</td>\n",
       "      <td>1</td>\n",
       "    </tr>\n",
       "    <tr>\n",
       "      <th>4</th>\n",
       "      <td>1665</td>\n",
       "      <td>Female</td>\n",
       "      <td>79.0</td>\n",
       "      <td>1</td>\n",
       "      <td>0</td>\n",
       "      <td>Yes</td>\n",
       "      <td>Self-employed</td>\n",
       "      <td>Rural</td>\n",
       "      <td>174.12</td>\n",
       "      <td>24.0</td>\n",
       "      <td>never smoked</td>\n",
       "      <td>1</td>\n",
       "    </tr>\n",
       "  </tbody>\n",
       "</table>\n",
       "</div>"
      ],
      "text/plain": [
       "      id  gender   age  hypertension  heart_disease ever_married  \\\n",
       "0   9046    Male  67.0             0              1          Yes   \n",
       "1  51676  Female  61.0             0              0          Yes   \n",
       "2  31112    Male  80.0             0              1          Yes   \n",
       "3  60182  Female  49.0             0              0          Yes   \n",
       "4   1665  Female  79.0             1              0          Yes   \n",
       "\n",
       "       work_type Residence_type  avg_glucose_level   bmi   smoking_status  \\\n",
       "0        Private          Urban             228.69  36.6  formerly smoked   \n",
       "1  Self-employed          Rural             202.21   NaN     never smoked   \n",
       "2        Private          Rural             105.92  32.5     never smoked   \n",
       "3        Private          Urban             171.23  34.4           smokes   \n",
       "4  Self-employed          Rural             174.12  24.0     never smoked   \n",
       "\n",
       "   stroke  \n",
       "0       1  \n",
       "1       1  \n",
       "2       1  \n",
       "3       1  \n",
       "4       1  "
      ]
     },
     "execution_count": 2,
     "metadata": {},
     "output_type": "execute_result"
    }
   ],
   "source": [
    "df = pd.read_csv(\"healthcare-dataset-stroke-data.csv\")\n",
    "df.head()"
   ]
  },
  {
   "cell_type": "code",
   "execution_count": 3,
   "id": "0bd705d2",
   "metadata": {},
   "outputs": [
    {
     "data": {
      "text/plain": [
       "id                     0\n",
       "gender                 0\n",
       "age                    0\n",
       "hypertension           0\n",
       "heart_disease          0\n",
       "ever_married           0\n",
       "work_type              0\n",
       "Residence_type         0\n",
       "avg_glucose_level      0\n",
       "bmi                  201\n",
       "smoking_status         0\n",
       "stroke                 0\n",
       "dtype: int64"
      ]
     },
     "execution_count": 3,
     "metadata": {},
     "output_type": "execute_result"
    }
   ],
   "source": [
    "df.isna().sum()"
   ]
  },
  {
   "cell_type": "code",
   "execution_count": 4,
   "id": "07d907ce",
   "metadata": {},
   "outputs": [
    {
     "data": {
      "text/plain": [
       "id                   0\n",
       "gender               0\n",
       "age                  0\n",
       "hypertension         0\n",
       "heart_disease        0\n",
       "ever_married         0\n",
       "work_type            0\n",
       "Residence_type       0\n",
       "avg_glucose_level    0\n",
       "bmi                  0\n",
       "smoking_status       0\n",
       "stroke               0\n",
       "dtype: int64"
      ]
     },
     "execution_count": 4,
     "metadata": {},
     "output_type": "execute_result"
    }
   ],
   "source": [
    "df.dropna(axis=0,inplace=True)\n",
    "df.isna().sum()"
   ]
  },
  {
   "cell_type": "code",
   "execution_count": 5,
   "id": "7d4054ba",
   "metadata": {},
   "outputs": [
    {
     "data": {
      "text/plain": [
       "(4909, 12)"
      ]
     },
     "execution_count": 5,
     "metadata": {},
     "output_type": "execute_result"
    }
   ],
   "source": [
    "df.shape"
   ]
  },
  {
   "cell_type": "code",
   "execution_count": 6,
   "id": "94a2ffb5",
   "metadata": {},
   "outputs": [
    {
     "data": {
      "image/png": "[encoded data removed]",
      "text/plain": [
       "<Figure size 1200x600 with 1 Axes>"
      ]
     },
     "metadata": {},
     "output_type": "display_data"
    }
   ],
   "source": [
    "numeric_columns = ['age', 'hypertension', 'heart_disease', 'avg_glucose_level', 'bmi', 'stroke']\n",
    "\n",
    "plt.figure(figsize=(12, 6))\n",
    "sns.boxplot(data=df[numeric_columns])\n",
    "plt.title('Box Plot of Numeric Columns')\n",
    "plt.show()"
   ]
  },
  {
   "cell_type": "code",
   "execution_count": 7,
   "id": "3bfff0b8",
   "metadata": {},
   "outputs": [
    {
     "name": "stdout",
     "output_type": "stream",
     "text": [
      "Ukuran dataset setelah menghapus outliers: (4252, 12)\n"
     ]
    }
   ],
   "source": [
    "import pandas as pd\n",
    "\n",
    "# Ambil kolom yang memiliki outlier\n",
    "outlier_columns = ['avg_glucose_level', 'bmi']\n",
    "\n",
    "# Menghapus data Outlier untuk setiap kolom\n",
    "for column in outlier_columns:\n",
    "    Q1 = df[column].quantile(0.25)\n",
    "    Q3 = df[column].quantile(0.75)\n",
    "    IQR = Q3 - Q1\n",
    "    df = df[~((df[column] < (Q1 - 1.5 * IQR)) | (df[column] > (Q3 + 1.5 * IQR)))]\n",
    "\n",
    "# Cek ukuran dataset setelah menghapus outliers\n",
    "print(\"Ukuran dataset setelah menghapus outliers:\", df.shape)"
   ]
  },
  {
   "cell_type": "code",
   "execution_count": 8,
   "id": "ed5e7c41",
   "metadata": {},
   "outputs": [
    {
     "data": {
      "image/png": "[encoded data removed]",
      "text/plain": [
       "<Figure size 1200x600 with 1 Axes>"
      ]
     },
     "metadata": {},
     "output_type": "display_data"
    }
   ],
   "source": [
    "numeric_columns = ['avg_glucose_level', 'bmi']\n",
    "\n",
    "plt.figure(figsize=(12, 6))\n",
    "sns.boxplot(data=df[numeric_columns])\n",
    "plt.title('Box Plot of Numeric Columns')\n",
    "plt.show()"
   ]
  },
  {
   "cell_type": "code",
   "execution_count": 9,
   "id": "ce2c09af",
   "metadata": {},
   "outputs": [
    {
     "data": {
      "text/html": [
       "<div>\n",
       "<style scoped>\n",
       "    .dataframe tbody tr th:only-of-type {\n",
       "        vertical-align: middle;\n",
       "    }\n",
       "\n",
       "    .dataframe tbody tr th {\n",
       "        vertical-align: top;\n",
       "    }\n",
       "\n",
       "    .dataframe thead th {\n",
       "        text-align: right;\n",
       "    }\n",
       "</style>\n",
       "<table border=\"1\" class=\"dataframe\">\n",
       "  <thead>\n",
       "    <tr style=\"text-align: right;\">\n",
       "      <th></th>\n",
       "      <th>id</th>\n",
       "      <th>gender</th>\n",
       "      <th>age</th>\n",
       "      <th>hypertension</th>\n",
       "      <th>heart_disease</th>\n",
       "      <th>ever_married</th>\n",
       "      <th>work_type</th>\n",
       "      <th>Residence_type</th>\n",
       "      <th>avg_glucose_level</th>\n",
       "      <th>bmi</th>\n",
       "      <th>smoking_status</th>\n",
       "      <th>stroke</th>\n",
       "    </tr>\n",
       "  </thead>\n",
       "  <tbody>\n",
       "    <tr>\n",
       "      <th>2</th>\n",
       "      <td>31112</td>\n",
       "      <td>1</td>\n",
       "      <td>80.0</td>\n",
       "      <td>0</td>\n",
       "      <td>1</td>\n",
       "      <td>1</td>\n",
       "      <td>2</td>\n",
       "      <td>0</td>\n",
       "      <td>105</td>\n",
       "      <td>32</td>\n",
       "      <td>2</td>\n",
       "      <td>1</td>\n",
       "    </tr>\n",
       "    <tr>\n",
       "      <th>6</th>\n",
       "      <td>53882</td>\n",
       "      <td>1</td>\n",
       "      <td>74.0</td>\n",
       "      <td>1</td>\n",
       "      <td>1</td>\n",
       "      <td>1</td>\n",
       "      <td>2</td>\n",
       "      <td>0</td>\n",
       "      <td>70</td>\n",
       "      <td>27</td>\n",
       "      <td>2</td>\n",
       "      <td>1</td>\n",
       "    </tr>\n",
       "    <tr>\n",
       "      <th>7</th>\n",
       "      <td>10434</td>\n",
       "      <td>0</td>\n",
       "      <td>69.0</td>\n",
       "      <td>0</td>\n",
       "      <td>0</td>\n",
       "      <td>0</td>\n",
       "      <td>2</td>\n",
       "      <td>1</td>\n",
       "      <td>94</td>\n",
       "      <td>22</td>\n",
       "      <td>2</td>\n",
       "      <td>1</td>\n",
       "    </tr>\n",
       "    <tr>\n",
       "      <th>9</th>\n",
       "      <td>60491</td>\n",
       "      <td>0</td>\n",
       "      <td>78.0</td>\n",
       "      <td>0</td>\n",
       "      <td>0</td>\n",
       "      <td>1</td>\n",
       "      <td>2</td>\n",
       "      <td>1</td>\n",
       "      <td>58</td>\n",
       "      <td>24</td>\n",
       "      <td>0</td>\n",
       "      <td>1</td>\n",
       "    </tr>\n",
       "    <tr>\n",
       "      <th>10</th>\n",
       "      <td>12109</td>\n",
       "      <td>0</td>\n",
       "      <td>81.0</td>\n",
       "      <td>1</td>\n",
       "      <td>0</td>\n",
       "      <td>1</td>\n",
       "      <td>2</td>\n",
       "      <td>0</td>\n",
       "      <td>80</td>\n",
       "      <td>29</td>\n",
       "      <td>2</td>\n",
       "      <td>1</td>\n",
       "    </tr>\n",
       "  </tbody>\n",
       "</table>\n",
       "</div>"
      ],
      "text/plain": [
       "       id  gender   age  hypertension  heart_disease  ever_married  work_type  \\\n",
       "2   31112       1  80.0             0              1             1          2   \n",
       "6   53882       1  74.0             1              1             1          2   \n",
       "7   10434       0  69.0             0              0             0          2   \n",
       "9   60491       0  78.0             0              0             1          2   \n",
       "10  12109       0  81.0             1              0             1          2   \n",
       "\n",
       "    Residence_type  avg_glucose_level  bmi  smoking_status  stroke  \n",
       "2                0                105   32               2       1  \n",
       "6                0                 70   27               2       1  \n",
       "7                1                 94   22               2       1  \n",
       "9                1                 58   24               0       1  \n",
       "10               0                 80   29               2       1  "
      ]
     },
     "execution_count": 9,
     "metadata": {},
     "output_type": "execute_result"
    }
   ],
   "source": [
    "le=LabelEncoder()\n",
    "\n",
    "df.avg_glucose_level=df['avg_glucose_level'].astype('int64')\n",
    "df.bmi=df['bmi'].astype('int64')\n",
    "\n",
    "df[\"gender\"]=le.fit_transform(df[\"gender\"])\n",
    "df[\"ever_married\"]=le.fit_transform(df[\"ever_married\"])\n",
    "df[\"work_type\"]=le.fit_transform(df[\"work_type\"])\n",
    "df[\"Residence_type\"]=le.fit_transform(df[\"Residence_type\"])\n",
    "df[\"smoking_status\"]=le.fit_transform(df[\"smoking_status\"])\n",
    "df.head()"
   ]
  },
  {
   "cell_type": "code",
   "execution_count": 10,
   "id": "0dfddcb6",
   "metadata": {},
   "outputs": [],
   "source": [
    "x=df.drop(columns='stroke')\n",
    "y=df.stroke"
   ]
  },
  {
   "cell_type": "code",
   "execution_count": 11,
   "id": "ff535e31",
   "metadata": {},
   "outputs": [],
   "source": [
    "# Standardize the features\n",
    "scaler = StandardScaler()\n",
    "x = scaler.fit_transform(x)\n",
    "\n",
    "# Resample the dataset\n",
    "smote = SMOTE()\n",
    "X_resampled, y_resampled = smote.fit_resample(x, y)"
   ]
  },
  {
   "cell_type": "code",
   "execution_count": 12,
   "id": "3874b0d2",
   "metadata": {},
   "outputs": [],
   "source": [
    "X_train, X_test, y_train, y_test = train_test_split(X_resampled, y_resampled, test_size=0.2, random_state=42)"
   ]
  },
  {
   "cell_type": "code",
   "execution_count": 13,
   "id": "52d27c27",
   "metadata": {},
   "outputs": [
    {
     "data": {
      "text/plain": [
       "1    4116\n",
       "0    4116\n",
       "Name: stroke, dtype: int64"
      ]
     },
     "execution_count": 13,
     "metadata": {},
     "output_type": "execute_result"
    }
   ],
   "source": [
    "import pandas as pd\n",
    "\n",
    "# Assuming y_train is a numpy array\n",
    "y_train_series = pd.Series(y_resampled)\n",
    "y_train_series.value_counts()"
   ]
  },
  {
   "cell_type": "code",
   "execution_count": 14,
   "id": "c429665c",
   "metadata": {
    "scrolled": true
   },
   "outputs": [
    {
     "name": "stdout",
     "output_type": "stream",
     "text": [
      "Fitting 5 folds for each of 27 candidates, totalling 135 fits\n",
      "[CV 1/5] END .....C=0.1, gamma=1, kernel=linear;, score=0.781 total time=   0.5s\n",
      "[CV 2/5] END .....C=0.1, gamma=1, kernel=linear;, score=0.764 total time=   0.4s\n",
      "[CV 3/5] END .....C=0.1, gamma=1, kernel=linear;, score=0.766 total time=   0.5s\n",
      "[CV 4/5] END .....C=0.1, gamma=1, kernel=linear;, score=0.774 total time=   0.4s\n",
      "[CV 5/5] END .....C=0.1, gamma=1, kernel=linear;, score=0.775 total time=   0.4s\n",
      "[CV 1/5] END ........C=0.1, gamma=1, kernel=rbf;, score=0.922 total time=   1.4s\n",
      "[CV 2/5] END ........C=0.1, gamma=1, kernel=rbf;, score=0.904 total time=   1.4s\n",
      "[CV 3/5] END ........C=0.1, gamma=1, kernel=rbf;, score=0.926 total time=   1.5s\n",
      "[CV 4/5] END ........C=0.1, gamma=1, kernel=rbf;, score=0.916 total time=   1.5s\n",
      "[CV 5/5] END ........C=0.1, gamma=1, kernel=rbf;, score=0.911 total time=   1.5s\n",
      "[CV 1/5] END .......C=0.1, gamma=1, kernel=poly;, score=0.885 total time=   4.5s\n",
      "[CV 2/5] END .......C=0.1, gamma=1, kernel=poly;, score=0.884 total time=   5.3s\n",
      "[CV 3/5] END .......C=0.1, gamma=1, kernel=poly;, score=0.884 total time=   5.5s\n",
      "[CV 4/5] END .......C=0.1, gamma=1, kernel=poly;, score=0.880 total time=   4.9s\n",
      "[CV 5/5] END .......C=0.1, gamma=1, kernel=poly;, score=0.867 total time=   4.2s\n",
      "[CV 1/5] END ...C=0.1, gamma=0.1, kernel=linear;, score=0.781 total time=   0.5s\n",
      "[CV 2/5] END ...C=0.1, gamma=0.1, kernel=linear;, score=0.764 total time=   0.5s\n",
      "[CV 3/5] END ...C=0.1, gamma=0.1, kernel=linear;, score=0.766 total time=   0.4s\n",
      "[CV 4/5] END ...C=0.1, gamma=0.1, kernel=linear;, score=0.774 total time=   0.4s\n",
      "[CV 5/5] END ...C=0.1, gamma=0.1, kernel=linear;, score=0.775 total time=   0.4s\n",
      "[CV 1/5] END ......C=0.1, gamma=0.1, kernel=rbf;, score=0.842 total time=   0.9s\n",
      "[CV 2/5] END ......C=0.1, gamma=0.1, kernel=rbf;, score=0.827 total time=   0.9s\n",
      "[CV 3/5] END ......C=0.1, gamma=0.1, kernel=rbf;, score=0.834 total time=   0.9s\n",
      "[CV 4/5] END ......C=0.1, gamma=0.1, kernel=rbf;, score=0.826 total time=   0.9s\n",
      "[CV 5/5] END ......C=0.1, gamma=0.1, kernel=rbf;, score=0.820 total time=   0.9s\n",
      "[CV 1/5] END .....C=0.1, gamma=0.1, kernel=poly;, score=0.820 total time=   0.5s\n",
      "[CV 2/5] END .....C=0.1, gamma=0.1, kernel=poly;, score=0.821 total time=   0.5s\n",
      "[CV 3/5] END .....C=0.1, gamma=0.1, kernel=poly;, score=0.826 total time=   0.5s\n",
      "[CV 4/5] END .....C=0.1, gamma=0.1, kernel=poly;, score=0.812 total time=   0.6s\n",
      "[CV 5/5] END .....C=0.1, gamma=0.1, kernel=poly;, score=0.826 total time=   0.6s\n",
      "[CV 1/5] END .C=0.1, gamma=0.001, kernel=linear;, score=0.781 total time=   0.4s\n",
      "[CV 2/5] END .C=0.1, gamma=0.001, kernel=linear;, score=0.764 total time=   0.4s\n",
      "[CV 3/5] END .C=0.1, gamma=0.001, kernel=linear;, score=0.766 total time=   0.4s\n",
      "[CV 4/5] END .C=0.1, gamma=0.001, kernel=linear;, score=0.774 total time=   0.4s\n",
      "[CV 5/5] END .C=0.1, gamma=0.001, kernel=linear;, score=0.775 total time=   0.4s\n",
      "[CV 1/5] END ....C=0.1, gamma=0.001, kernel=rbf;, score=0.781 total time=   1.5s\n",
      "[CV 2/5] END ....C=0.1, gamma=0.001, kernel=rbf;, score=0.759 total time=   1.4s\n",
      "[CV 3/5] END ....C=0.1, gamma=0.001, kernel=rbf;, score=0.759 total time=   1.5s\n",
      "[CV 4/5] END ....C=0.1, gamma=0.001, kernel=rbf;, score=0.750 total time=   1.5s\n",
      "[CV 5/5] END ....C=0.1, gamma=0.001, kernel=rbf;, score=0.759 total time=   1.5s\n",
      "[CV 1/5] END ...C=0.1, gamma=0.001, kernel=poly;, score=0.501 total time=   0.9s\n",
      "[CV 2/5] END ...C=0.1, gamma=0.001, kernel=poly;, score=0.501 total time=   0.9s\n",
      "[CV 3/5] END ...C=0.1, gamma=0.001, kernel=poly;, score=0.500 total time=   0.9s\n",
      "[CV 4/5] END ...C=0.1, gamma=0.001, kernel=poly;, score=0.500 total time=   0.9s\n",
      "[CV 5/5] END ...C=0.1, gamma=0.001, kernel=poly;, score=0.500 total time=   0.9s\n",
      "[CV 1/5] END .......C=1, gamma=1, kernel=linear;, score=0.781 total time=   0.8s\n",
      "[CV 2/5] END .......C=1, gamma=1, kernel=linear;, score=0.763 total time=   0.7s\n",
      "[CV 3/5] END .......C=1, gamma=1, kernel=linear;, score=0.764 total time=   0.7s\n",
      "[CV 4/5] END .......C=1, gamma=1, kernel=linear;, score=0.773 total time=   0.8s\n",
      "[CV 5/5] END .......C=1, gamma=1, kernel=linear;, score=0.776 total time=   0.7s\n",
      "[CV 1/5] END ..........C=1, gamma=1, kernel=rbf;, score=0.977 total time=   1.0s\n",
      "[CV 2/5] END ..........C=1, gamma=1, kernel=rbf;, score=0.973 total time=   1.0s\n",
      "[CV 3/5] END ..........C=1, gamma=1, kernel=rbf;, score=0.973 total time=   1.0s\n",
      "[CV 4/5] END ..........C=1, gamma=1, kernel=rbf;, score=0.974 total time=   1.0s\n",
      "[CV 5/5] END ..........C=1, gamma=1, kernel=rbf;, score=0.970 total time=   1.0s\n",
      "[CV 1/5] END .........C=1, gamma=1, kernel=poly;, score=0.882 total time=  32.9s\n",
      "[CV 2/5] END .........C=1, gamma=1, kernel=poly;, score=0.882 total time=  43.3s\n",
      "[CV 3/5] END .........C=1, gamma=1, kernel=poly;, score=0.890 total time=  41.6s\n",
      "[CV 4/5] END .........C=1, gamma=1, kernel=poly;, score=0.884 total time=  44.1s\n",
      "[CV 5/5] END .........C=1, gamma=1, kernel=poly;, score=0.868 total time=  38.6s\n",
      "[CV 1/5] END .....C=1, gamma=0.1, kernel=linear;, score=0.781 total time=   0.8s\n",
      "[CV 2/5] END .....C=1, gamma=0.1, kernel=linear;, score=0.763 total time=   0.8s\n",
      "[CV 3/5] END .....C=1, gamma=0.1, kernel=linear;, score=0.764 total time=   0.8s\n",
      "[CV 4/5] END .....C=1, gamma=0.1, kernel=linear;, score=0.773 total time=   0.8s\n",
      "[CV 5/5] END .....C=1, gamma=0.1, kernel=linear;, score=0.776 total time=   0.8s\n",
      "[CV 1/5] END ........C=1, gamma=0.1, kernel=rbf;, score=0.901 total time=   0.7s\n",
      "[CV 2/5] END ........C=1, gamma=0.1, kernel=rbf;, score=0.892 total time=   0.7s\n",
      "[CV 3/5] END ........C=1, gamma=0.1, kernel=rbf;, score=0.894 total time=   0.7s\n",
      "[CV 4/5] END ........C=1, gamma=0.1, kernel=rbf;, score=0.888 total time=   0.7s\n",
      "[CV 5/5] END ........C=1, gamma=0.1, kernel=rbf;, score=0.892 total time=   0.7s\n",
      "[CV 1/5] END .......C=1, gamma=0.1, kernel=poly;, score=0.882 total time=   0.6s\n",
      "[CV 2/5] END .......C=1, gamma=0.1, kernel=poly;, score=0.860 total time=   0.6s\n",
      "[CV 3/5] END .......C=1, gamma=0.1, kernel=poly;, score=0.861 total time=   0.5s\n",
      "[CV 4/5] END .......C=1, gamma=0.1, kernel=poly;, score=0.847 total time=   0.5s\n",
      "[CV 5/5] END .......C=1, gamma=0.1, kernel=poly;, score=0.856 total time=   0.6s\n",
      "[CV 1/5] END ...C=1, gamma=0.001, kernel=linear;, score=0.781 total time=   0.8s\n",
      "[CV 2/5] END ...C=1, gamma=0.001, kernel=linear;, score=0.763 total time=   0.8s\n",
      "[CV 3/5] END ...C=1, gamma=0.001, kernel=linear;, score=0.764 total time=   0.8s\n",
      "[CV 4/5] END ...C=1, gamma=0.001, kernel=linear;, score=0.773 total time=   0.8s\n",
      "[CV 5/5] END ...C=1, gamma=0.001, kernel=linear;, score=0.776 total time=   0.7s\n",
      "[CV 1/5] END ......C=1, gamma=0.001, kernel=rbf;, score=0.791 total time=   1.0s\n",
      "[CV 2/5] END ......C=1, gamma=0.001, kernel=rbf;, score=0.768 total time=   1.0s\n",
      "[CV 3/5] END ......C=1, gamma=0.001, kernel=rbf;, score=0.766 total time=   1.0s\n",
      "[CV 4/5] END ......C=1, gamma=0.001, kernel=rbf;, score=0.764 total time=   1.0s\n",
      "[CV 5/5] END ......C=1, gamma=0.001, kernel=rbf;, score=0.772 total time=   1.0s\n",
      "[CV 1/5] END .....C=1, gamma=0.001, kernel=poly;, score=0.501 total time=   0.9s\n",
      "[CV 2/5] END .....C=1, gamma=0.001, kernel=poly;, score=0.501 total time=   0.9s\n",
      "[CV 3/5] END .....C=1, gamma=0.001, kernel=poly;, score=0.500 total time=   0.9s\n",
      "[CV 4/5] END .....C=1, gamma=0.001, kernel=poly;, score=0.500 total time=   0.9s\n",
      "[CV 5/5] END .....C=1, gamma=0.001, kernel=poly;, score=0.500 total time=   0.9s\n",
      "[CV 1/5] END ......C=10, gamma=1, kernel=linear;, score=0.781 total time=   2.5s\n",
      "[CV 2/5] END ......C=10, gamma=1, kernel=linear;, score=0.763 total time=   2.5s\n",
      "[CV 3/5] END ......C=10, gamma=1, kernel=linear;, score=0.765 total time=   2.4s\n",
      "[CV 4/5] END ......C=10, gamma=1, kernel=linear;, score=0.772 total time=   2.4s\n",
      "[CV 5/5] END ......C=10, gamma=1, kernel=linear;, score=0.774 total time=   2.4s\n",
      "[CV 1/5] END .........C=10, gamma=1, kernel=rbf;, score=0.976 total time=   0.9s\n",
      "[CV 2/5] END .........C=10, gamma=1, kernel=rbf;, score=0.974 total time=   0.9s\n",
      "[CV 3/5] END .........C=10, gamma=1, kernel=rbf;, score=0.976 total time=   0.9s\n",
      "[CV 4/5] END .........C=10, gamma=1, kernel=rbf;, score=0.975 total time=   1.0s\n",
      "[CV 5/5] END .........C=10, gamma=1, kernel=rbf;, score=0.971 total time=   1.0s\n",
      "[CV 1/5] END ........C=10, gamma=1, kernel=poly;, score=0.886 total time= 4.6min\n"
     ]
    },
    {
     "name": "stdout",
     "output_type": "stream",
     "text": [
      "[CV 2/5] END ........C=10, gamma=1, kernel=poly;, score=0.885 total time= 6.3min\n",
      "[CV 3/5] END ........C=10, gamma=1, kernel=poly;, score=0.894 total time= 8.6min\n",
      "[CV 4/5] END ........C=10, gamma=1, kernel=poly;, score=0.890 total time= 5.6min\n",
      "[CV 5/5] END ........C=10, gamma=1, kernel=poly;, score=0.879 total time= 5.3min\n",
      "[CV 1/5] END ....C=10, gamma=0.1, kernel=linear;, score=0.781 total time=   2.6s\n",
      "[CV 2/5] END ....C=10, gamma=0.1, kernel=linear;, score=0.763 total time=   2.7s\n",
      "[CV 3/5] END ....C=10, gamma=0.1, kernel=linear;, score=0.765 total time=   2.5s\n",
      "[CV 4/5] END ....C=10, gamma=0.1, kernel=linear;, score=0.772 total time=   2.7s\n",
      "[CV 5/5] END ....C=10, gamma=0.1, kernel=linear;, score=0.774 total time=   3.0s\n",
      "[CV 1/5] END .......C=10, gamma=0.1, kernel=rbf;, score=0.940 total time=   0.6s\n",
      "[CV 2/5] END .......C=10, gamma=0.1, kernel=rbf;, score=0.935 total time=   0.6s\n",
      "[CV 3/5] END .......C=10, gamma=0.1, kernel=rbf;, score=0.935 total time=   0.6s\n",
      "[CV 4/5] END .......C=10, gamma=0.1, kernel=rbf;, score=0.942 total time=   0.6s\n",
      "[CV 5/5] END .......C=10, gamma=0.1, kernel=rbf;, score=0.933 total time=   0.6s\n",
      "[CV 1/5] END ......C=10, gamma=0.1, kernel=poly;, score=0.880 total time=   1.1s\n",
      "[CV 2/5] END ......C=10, gamma=0.1, kernel=poly;, score=0.872 total time=   1.1s\n",
      "[CV 3/5] END ......C=10, gamma=0.1, kernel=poly;, score=0.879 total time=   1.1s\n",
      "[CV 4/5] END ......C=10, gamma=0.1, kernel=poly;, score=0.863 total time=   0.9s\n",
      "[CV 5/5] END ......C=10, gamma=0.1, kernel=poly;, score=0.866 total time=   1.1s\n",
      "[CV 1/5] END ..C=10, gamma=0.001, kernel=linear;, score=0.781 total time=   2.6s\n",
      "[CV 2/5] END ..C=10, gamma=0.001, kernel=linear;, score=0.763 total time=   2.5s\n",
      "[CV 3/5] END ..C=10, gamma=0.001, kernel=linear;, score=0.765 total time=   2.5s\n",
      "[CV 4/5] END ..C=10, gamma=0.001, kernel=linear;, score=0.772 total time=   2.5s\n",
      "[CV 5/5] END ..C=10, gamma=0.001, kernel=linear;, score=0.774 total time=   2.5s\n",
      "[CV 1/5] END .....C=10, gamma=0.001, kernel=rbf;, score=0.789 total time=   0.9s\n",
      "[CV 2/5] END .....C=10, gamma=0.001, kernel=rbf;, score=0.765 total time=   0.9s\n",
      "[CV 3/5] END .....C=10, gamma=0.001, kernel=rbf;, score=0.775 total time=   0.9s\n",
      "[CV 4/5] END .....C=10, gamma=0.001, kernel=rbf;, score=0.776 total time=   0.9s\n",
      "[CV 5/5] END .....C=10, gamma=0.001, kernel=rbf;, score=0.777 total time=   0.9s\n",
      "[CV 1/5] END ....C=10, gamma=0.001, kernel=poly;, score=0.501 total time=   1.1s\n",
      "[CV 2/5] END ....C=10, gamma=0.001, kernel=poly;, score=0.501 total time=   1.0s\n",
      "[CV 3/5] END ....C=10, gamma=0.001, kernel=poly;, score=0.500 total time=   1.4s\n",
      "[CV 4/5] END ....C=10, gamma=0.001, kernel=poly;, score=0.500 total time=   1.5s\n",
      "[CV 5/5] END ....C=10, gamma=0.001, kernel=poly;, score=0.500 total time=   1.0s\n"
     ]
    },
    {
     "data": {
      "text/plain": [
       "GridSearchCV(estimator=SVC(),\n",
       "             param_grid={'C': [0.1, 1, 10], 'gamma': [1, 0.1, 0.001],\n",
       "                         'kernel': ['linear', 'rbf', 'poly']},\n",
       "             verbose=3)"
      ]
     },
     "execution_count": 14,
     "metadata": {},
     "output_type": "execute_result"
    }
   ],
   "source": [
    "parameters = {'C': [0.1, 1, 10],\n",
    "              'kernel': ['linear', 'rbf', 'poly'],\n",
    "              'gamma': [1, 0.1, 0.001]}\n",
    "\n",
    "svm_model = svm.SVC()\n",
    "\n",
    "grid_search = GridSearchCV(SVC(), parameters, verbose=3)\n",
    "\n",
    "grid_search.fit(X_train, y_train)"
   ]
  },
  {
   "cell_type": "code",
   "execution_count": 15,
   "id": "a34919b7",
   "metadata": {},
   "outputs": [
    {
     "data": {
      "text/plain": [
       "{'C': 10, 'gamma': 1, 'kernel': 'rbf'}"
      ]
     },
     "execution_count": 15,
     "metadata": {},
     "output_type": "execute_result"
    }
   ],
   "source": [
    "grid_search.best_params_"
   ]
  },
  {
   "cell_type": "code",
   "execution_count": 18,
   "id": "78258c00",
   "metadata": {},
   "outputs": [
    {
     "name": "stdout",
     "output_type": "stream",
     "text": [
      "0.9811778992106861\n"
     ]
    }
   ],
   "source": [
    "model_svm = SVC(C=10, gamma=1, kernel='rbf')\n",
    "model_svm.fit(X_train, y_train)\n",
    "\n",
    "y_pred = model_svm.predict(X_test)\n",
    "accuracy_svm = accuracy_score(y_test, y_pred)\n",
    "print(accuracy_svm)"
   ]
  },
  {
   "cell_type": "code",
   "execution_count": 19,
   "id": "ef7a0d83",
   "metadata": {},
   "outputs": [
    {
     "name": "stdout",
     "output_type": "stream",
     "text": [
      "              precision    recall  f1-score   support\n",
      "\n",
      "           0       1.00      0.96      0.98       828\n",
      "           1       0.96      1.00      0.98       819\n",
      "\n",
      "    accuracy                           0.98      1647\n",
      "   macro avg       0.98      0.98      0.98      1647\n",
      "weighted avg       0.98      0.98      0.98      1647\n",
      "\n"
     ]
    }
   ],
   "source": [
    "svm_classification_report = classification_report(y_test, y_pred)\n",
    "print(svm_classification_report)"
   ]
  },
  {
   "cell_type": "code",
   "execution_count": null,
   "id": "fe0b14e5",
   "metadata": {},
   "outputs": [],
   "source": []
  }
 ],
 "metadata": {
  "kernelspec": {
   "display_name": "Python 3 (ipykernel)",
   "language": "python",
   "name": "python3"
  },
  "language_info": {
   "codemirror_mode": {
    "name": "ipython",
    "version": 3
   },
   "file_extension": ".py",
   "mimetype": "text/x-python",
   "name": "python",
   "nbconvert_exporter": "python",
   "pygments_lexer": "ipython3",
   "version": "3.8.16"
  }
 },
 "nbformat": 4,
 "nbformat_minor": 5
}
